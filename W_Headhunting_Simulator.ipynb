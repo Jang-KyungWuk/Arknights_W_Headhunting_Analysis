{
  "nbformat": 4,
  "nbformat_minor": 0,
  "metadata": {
    "colab": {
      "name": "W Headhunting Simulator 3.ipynb",
      "provenance": [],
      "collapsed_sections": [],
      "authorship_tag": "ABX9TyMHZSWAgxX37fwn8iKFrlIH",
      "include_colab_link": true
    },
    "kernelspec": {
      "display_name": "Python 3",
      "name": "python3"
    }
  },
  "cells": [
    {
      "cell_type": "markdown",
      "metadata": {
        "id": "view-in-github",
        "colab_type": "text"
      },
      "source": [
        "<a href=\"https://colab.research.google.com/github/Jang-KyungWuk/Arknights_W_Headhunting_Analysis/blob/main/W_Headhunting_Simulator.ipynb\" target=\"_parent\"><img src=\"https://colab.research.google.com/assets/colab-badge.svg\" alt=\"Open In Colab\"/></a>"
      ]
    },
    {
      "cell_type": "code",
      "metadata": {
        "colab": {
          "base_uri": "https://localhost:8080/"
        },
        "id": "4ZtaGcFLfhlV",
        "outputId": "9760cfd3-5c6d-41fc-fb8c-095b30d59ce2"
      },
      "source": [
        "from google.colab import drive\r\n",
        "drive.mount('/content/gdrive')\r\n",
        "base_dir=\"/content/gdrive/My Drive/\""
      ],
      "execution_count": 1,
      "outputs": [
        {
          "output_type": "stream",
          "text": [
            "Mounted at /content/gdrive\n"
          ],
          "name": "stdout"
        }
      ]
    },
    {
      "cell_type": "code",
      "metadata": {
        "id": "av0UMVtfkpvv"
      },
      "source": [
        "import random as rd\r\n",
        "import pandas as pd\r\n",
        "import numpy as np\r\n",
        "import datetime\r\n",
        "import time\r\n",
        "rd.seed('20201230')\r\n",
        "KR_doctor_count=2321646 # From KR 1st anniversary broadcast\r\n",
        "KST=datetime.timezone(datetime.timedelta(hours=9))"
      ],
      "execution_count": 2,
      "outputs": []
    },
    {
      "cell_type": "code",
      "metadata": {
        "id": "OVvjMPoSwA4i"
      },
      "source": [
        "res_array=np.zeros((KR_doctor_count,11),dtype=int)"
      ],
      "execution_count": 3,
      "outputs": []
    },
    {
      "cell_type": "code",
      "metadata": {
        "id": "IEa-BcHGkmHW"
      },
      "source": [
        "class doctor:\r\n",
        "  def __init__(self,n):\r\n",
        "    self.pull_count=0\r\n",
        "    self.W_count=0\r\n",
        "    self.Weedy_count=0\r\n",
        "    self.S6_count=0\r\n",
        "    self.Elysium_count=0\r\n",
        "    self.S5_count=0\r\n",
        "    self.S4_count=0\r\n",
        "    self.S3_count=0\r\n",
        "    self.stack=0\r\n",
        "\r\n",
        "    self.W=0.007 # 0.02*0.7*0.5\r\n",
        "    self.Weedy=0.014 # W+(0.02*0.7*0.5)\r\n",
        "    self.S6=0.02 # W+Weedy+(0.02*0.3)\r\n",
        "    self.Elysium=0.06 # S6+(0.08*0.5)\r\n",
        "    self.S5=0.1\r\n",
        "    self.S4=0.6   \r\n",
        "\r\n",
        "    self.dr_no=n\r\n",
        "\r\n",
        "  def single_pull(self):\r\n",
        "    pull=rd.random()\r\n",
        "\r\n",
        "    if (self.pull_count==9) and ((self.S4_count+self.S3_count)==9):\r\n",
        "      if (pull<=self.W):\r\n",
        "        self.W_count+=1\r\n",
        "        self.stack=-1\r\n",
        "      elif (pull<=self.Weedy):\r\n",
        "        self.Weedy_count+=1\r\n",
        "        self.stack=-1\r\n",
        "      elif (pull<=self.S6):\r\n",
        "        self.S6_count+=1\r\n",
        "        self.stack=-1\r\n",
        "      elif (pull<=0.51):\r\n",
        "        self.Elysium_count+=1\r\n",
        "      else:\r\n",
        "        self.S5_count+=1\r\n",
        "      self.stack+=1\r\n",
        "      self.pull_count+=1\r\n",
        "\r\n",
        "    elif self.stack<=50:\r\n",
        "      if (pull<=self.W):\r\n",
        "        self.W_count+=1\r\n",
        "        self.stack=-1\r\n",
        "      elif (pull<=self.Weedy):\r\n",
        "        self.Weedy_count+=1\r\n",
        "        self.stack=-1\r\n",
        "      elif (pull<=self.S6):\r\n",
        "        self.S6_count+=1\r\n",
        "        self.stack=-1\r\n",
        "      elif (pull<=self.Elysium):\r\n",
        "        self.Elysium_count+=1\r\n",
        "      elif (pull<=self.S5):\r\n",
        "        self.S5_count+=1\r\n",
        "      elif (pull<=self.S4):\r\n",
        "        self.S4_count+=1\r\n",
        "      else:\r\n",
        "        self.S3_count+=1\r\n",
        "      self.stack+=1\r\n",
        "      self.pull_count+=1\r\n",
        "\r\n",
        "    else:\r\n",
        "      bonus=self.stack-50\r\n",
        "\r\n",
        "      bonus_W=self.W+(0.007*bonus)\r\n",
        "      bonus_Weedy=self.Weedy+(0.014*bonus)\r\n",
        "      bonus_S6=self.S6+(0.02*bonus)\r\n",
        "      bonus_Elysium=self.Elysium+((0.02-((1/6)*0.02))*bonus)\r\n",
        "      bonus_S5=self.S5+((0.02-((1/3)*0.02))*bonus)\r\n",
        "      bonus_S4=self.S4+((0.02-((2/3)*0.02))*bonus)\r\n",
        "     \r\n",
        "      '''\r\n",
        "      print(\"bonus stack : \",bonus)\r\n",
        "      print(bonus_W)\r\n",
        "      print(bonus_Weedy)\r\n",
        "      print(bonus_S6)\r\n",
        "      print(bonus_Elysium)\r\n",
        "      print(bonus_S5)\r\n",
        "      print(bonus_S4)\r\n",
        "      print(\"<<<<<<>>>>>>\")\r\n",
        "      '''\r\n",
        "\r\n",
        "      if (pull<=bonus_W):\r\n",
        "        self.W_count+=1\r\n",
        "        self.stack=-1\r\n",
        "      elif (pull<=bonus_Weedy):\r\n",
        "        self.Weedy_count+=1\r\n",
        "        self.stack=-1\r\n",
        "      elif (pull<=bonus_S6):\r\n",
        "        self.S6_count+=1\r\n",
        "        self.stack=-1\r\n",
        "      elif (pull<=bonus_Elysium):\r\n",
        "        self.Elysium_count+=1\r\n",
        "      elif (pull<=bonus_S5):\r\n",
        "        self.S5_count+=1\r\n",
        "      elif (pull<=bonus_S4):\r\n",
        "        self.S4_count+=1\r\n",
        "      else:\r\n",
        "        self.S3_count+=1\r\n",
        "      self.stack+=1\r\n",
        "      self.pull_count+=1   \r\n",
        "\r\n",
        "  def row_pull(self):\r\n",
        "    for n in range(10):\r\n",
        "      self.single_pull()\r\n",
        "\r\n",
        "  def pull_for_W(self):\r\n",
        "    while self.W_count<1 and self.pull_count<300:\r\n",
        "      self.single_pull()\r\n",
        "\r\n",
        "  def print_result(self):\r\n",
        "    print(\"Pull_count :\",self.pull_count)\r\n",
        "    print(\"W_count :\",self.W_count)\r\n",
        "    print(\"Weedy_count :\",self.Weedy_count)\r\n",
        "    print(\"S6_count :\",self.S6_count)\r\n",
        "    print(\"Elysium_count :\",self.Elysium_count)\r\n",
        "    print(\"S5_count :\",self.S5_count)\r\n",
        "    print(\"S4_count :\",self.S4_count)\r\n",
        "    print(\"S3_count :\",self.S3_count)\r\n",
        "    print(\"-------------------------------------\")\r\n",
        "\r\n",
        "  def return_result(self):\r\n",
        "    return(self.dr_no,\r\n",
        "           self.pull_count, self.W_count, self.Weedy_count, self.S6_count,\r\n",
        "           self.Elysium_count, self.S5_count,\r\n",
        "           (self.W_count+self.Weedy_count+self.S6_count),\r\n",
        "           (self.Elysium_count+self.S5_count),\r\n",
        "           self.S4_count,self.S3_count)\r\n"
      ],
      "execution_count": 4,
      "outputs": []
    },
    {
      "cell_type": "code",
      "metadata": {
        "id": "Qa2rIHZ1ZzpE"
      },
      "source": [
        "for n in range (KR_doctor_count):\r\n",
        "  dr=doctor(n)\r\n",
        "  dr.pull_for_W()\r\n",
        "  res_array[n]+=dr.return_result()"
      ],
      "execution_count": 5,
      "outputs": []
    },
    {
      "cell_type": "code",
      "metadata": {
        "colab": {
          "base_uri": "https://localhost:8080/"
        },
        "id": "zLGF77zRD4KS",
        "outputId": "0c4e3a9a-2641-42a1-9f93-34a2ccb6d76f"
      },
      "source": [
        "res_array"
      ],
      "execution_count": 6,
      "outputs": [
        {
          "output_type": "execute_result",
          "data": {
            "text/plain": [
              "array([[      0,      56,       1, ...,       5,      21,      29],\n",
              "       [      1,      21,       1, ...,       1,      10,       7],\n",
              "       [      2,      26,       1, ...,       3,      14,       8],\n",
              "       ...,\n",
              "       [2321643,      75,       1, ...,       5,      43,      25],\n",
              "       [2321644,      10,       1, ...,       1,       4,       4],\n",
              "       [2321645,     120,       1, ...,       6,      56,      54]])"
            ]
          },
          "metadata": {
            "tags": []
          },
          "execution_count": 6
        }
      ]
    },
    {
      "cell_type": "code",
      "metadata": {
        "id": "92VZa4HgHtY9"
      },
      "source": [
        "dataframe=pd.DataFrame(data=res_array,columns=['DR no','Pulls','W','Weedy','Non Pick-up S6 OP','Elysium','Non Pick-up S5 OP','S6 OP','S5 OP','S4 OP','S3 OP'])"
      ],
      "execution_count": 7,
      "outputs": []
    },
    {
      "cell_type": "code",
      "metadata": {
        "id": "_1g_RK0CX-RX",
        "colab": {
          "base_uri": "https://localhost:8080/",
          "height": 419
        },
        "outputId": "c74860f3-d145-4c7e-c663-550561aa6208"
      },
      "source": [
        "dataframe"
      ],
      "execution_count": 8,
      "outputs": [
        {
          "output_type": "execute_result",
          "data": {
            "text/html": [
              "<div>\n",
              "<style scoped>\n",
              "    .dataframe tbody tr th:only-of-type {\n",
              "        vertical-align: middle;\n",
              "    }\n",
              "\n",
              "    .dataframe tbody tr th {\n",
              "        vertical-align: top;\n",
              "    }\n",
              "\n",
              "    .dataframe thead th {\n",
              "        text-align: right;\n",
              "    }\n",
              "</style>\n",
              "<table border=\"1\" class=\"dataframe\">\n",
              "  <thead>\n",
              "    <tr style=\"text-align: right;\">\n",
              "      <th></th>\n",
              "      <th>DR no</th>\n",
              "      <th>Pulls</th>\n",
              "      <th>W</th>\n",
              "      <th>Weedy</th>\n",
              "      <th>Non Pick-up S6 OP</th>\n",
              "      <th>Elysium</th>\n",
              "      <th>Non Pick-up S5 OP</th>\n",
              "      <th>S6 OP</th>\n",
              "      <th>S5 OP</th>\n",
              "      <th>S4 OP</th>\n",
              "      <th>S3 OP</th>\n",
              "    </tr>\n",
              "  </thead>\n",
              "  <tbody>\n",
              "    <tr>\n",
              "      <th>0</th>\n",
              "      <td>0</td>\n",
              "      <td>56</td>\n",
              "      <td>1</td>\n",
              "      <td>0</td>\n",
              "      <td>0</td>\n",
              "      <td>3</td>\n",
              "      <td>2</td>\n",
              "      <td>1</td>\n",
              "      <td>5</td>\n",
              "      <td>21</td>\n",
              "      <td>29</td>\n",
              "    </tr>\n",
              "    <tr>\n",
              "      <th>1</th>\n",
              "      <td>1</td>\n",
              "      <td>21</td>\n",
              "      <td>1</td>\n",
              "      <td>0</td>\n",
              "      <td>2</td>\n",
              "      <td>1</td>\n",
              "      <td>0</td>\n",
              "      <td>3</td>\n",
              "      <td>1</td>\n",
              "      <td>10</td>\n",
              "      <td>7</td>\n",
              "    </tr>\n",
              "    <tr>\n",
              "      <th>2</th>\n",
              "      <td>2</td>\n",
              "      <td>26</td>\n",
              "      <td>1</td>\n",
              "      <td>0</td>\n",
              "      <td>0</td>\n",
              "      <td>1</td>\n",
              "      <td>2</td>\n",
              "      <td>1</td>\n",
              "      <td>3</td>\n",
              "      <td>14</td>\n",
              "      <td>8</td>\n",
              "    </tr>\n",
              "    <tr>\n",
              "      <th>3</th>\n",
              "      <td>3</td>\n",
              "      <td>33</td>\n",
              "      <td>1</td>\n",
              "      <td>0</td>\n",
              "      <td>0</td>\n",
              "      <td>1</td>\n",
              "      <td>2</td>\n",
              "      <td>1</td>\n",
              "      <td>3</td>\n",
              "      <td>17</td>\n",
              "      <td>12</td>\n",
              "    </tr>\n",
              "    <tr>\n",
              "      <th>4</th>\n",
              "      <td>4</td>\n",
              "      <td>300</td>\n",
              "      <td>0</td>\n",
              "      <td>2</td>\n",
              "      <td>6</td>\n",
              "      <td>16</td>\n",
              "      <td>9</td>\n",
              "      <td>8</td>\n",
              "      <td>25</td>\n",
              "      <td>146</td>\n",
              "      <td>121</td>\n",
              "    </tr>\n",
              "    <tr>\n",
              "      <th>...</th>\n",
              "      <td>...</td>\n",
              "      <td>...</td>\n",
              "      <td>...</td>\n",
              "      <td>...</td>\n",
              "      <td>...</td>\n",
              "      <td>...</td>\n",
              "      <td>...</td>\n",
              "      <td>...</td>\n",
              "      <td>...</td>\n",
              "      <td>...</td>\n",
              "      <td>...</td>\n",
              "    </tr>\n",
              "    <tr>\n",
              "      <th>2321641</th>\n",
              "      <td>2321641</td>\n",
              "      <td>135</td>\n",
              "      <td>1</td>\n",
              "      <td>2</td>\n",
              "      <td>0</td>\n",
              "      <td>8</td>\n",
              "      <td>3</td>\n",
              "      <td>3</td>\n",
              "      <td>11</td>\n",
              "      <td>72</td>\n",
              "      <td>49</td>\n",
              "    </tr>\n",
              "    <tr>\n",
              "      <th>2321642</th>\n",
              "      <td>2321642</td>\n",
              "      <td>46</td>\n",
              "      <td>1</td>\n",
              "      <td>0</td>\n",
              "      <td>0</td>\n",
              "      <td>1</td>\n",
              "      <td>2</td>\n",
              "      <td>1</td>\n",
              "      <td>3</td>\n",
              "      <td>22</td>\n",
              "      <td>20</td>\n",
              "    </tr>\n",
              "    <tr>\n",
              "      <th>2321643</th>\n",
              "      <td>2321643</td>\n",
              "      <td>75</td>\n",
              "      <td>1</td>\n",
              "      <td>1</td>\n",
              "      <td>0</td>\n",
              "      <td>2</td>\n",
              "      <td>3</td>\n",
              "      <td>2</td>\n",
              "      <td>5</td>\n",
              "      <td>43</td>\n",
              "      <td>25</td>\n",
              "    </tr>\n",
              "    <tr>\n",
              "      <th>2321644</th>\n",
              "      <td>2321644</td>\n",
              "      <td>10</td>\n",
              "      <td>1</td>\n",
              "      <td>0</td>\n",
              "      <td>0</td>\n",
              "      <td>0</td>\n",
              "      <td>1</td>\n",
              "      <td>1</td>\n",
              "      <td>1</td>\n",
              "      <td>4</td>\n",
              "      <td>4</td>\n",
              "    </tr>\n",
              "    <tr>\n",
              "      <th>2321645</th>\n",
              "      <td>2321645</td>\n",
              "      <td>120</td>\n",
              "      <td>1</td>\n",
              "      <td>3</td>\n",
              "      <td>0</td>\n",
              "      <td>0</td>\n",
              "      <td>6</td>\n",
              "      <td>4</td>\n",
              "      <td>6</td>\n",
              "      <td>56</td>\n",
              "      <td>54</td>\n",
              "    </tr>\n",
              "  </tbody>\n",
              "</table>\n",
              "<p>2321646 rows × 11 columns</p>\n",
              "</div>"
            ],
            "text/plain": [
              "           DR no  Pulls  W  Weedy  ...  S6 OP  S5 OP  S4 OP  S3 OP\n",
              "0              0     56  1      0  ...      1      5     21     29\n",
              "1              1     21  1      0  ...      3      1     10      7\n",
              "2              2     26  1      0  ...      1      3     14      8\n",
              "3              3     33  1      0  ...      1      3     17     12\n",
              "4              4    300  0      2  ...      8     25    146    121\n",
              "...          ...    ... ..    ...  ...    ...    ...    ...    ...\n",
              "2321641  2321641    135  1      2  ...      3     11     72     49\n",
              "2321642  2321642     46  1      0  ...      1      3     22     20\n",
              "2321643  2321643     75  1      1  ...      2      5     43     25\n",
              "2321644  2321644     10  1      0  ...      1      1      4      4\n",
              "2321645  2321645    120  1      3  ...      4      6     56     54\n",
              "\n",
              "[2321646 rows x 11 columns]"
            ]
          },
          "metadata": {
            "tags": []
          },
          "execution_count": 8
        }
      ]
    },
    {
      "cell_type": "code",
      "metadata": {
        "id": "KLsJ9Nu46Z5e"
      },
      "source": [
        "simmed_dr_count=len(dataframe)"
      ],
      "execution_count": 9,
      "outputs": []
    },
    {
      "cell_type": "code",
      "metadata": {
        "id": "h0z4MUwkbZVN"
      },
      "source": [
        "#dataframe.to_excel(base_dir+(\"W sim 3 res %s.xlsx\")%simmed_dr_count,index=False)\r\n",
        "\r\n",
        "'''\r\n",
        "ValueError                                Traceback (most recent call last)\r\n",
        "<ipython-input-10-cacd56f60337> in <module>()\r\n",
        "----> 1 dataframe.to_excel(base_dir+(\"W sim 2 res %s.xlsx\")%simmed_dr_count,index=False)\r\n",
        "\r\n",
        "1 frames\r\n",
        "/usr/local/lib/python3.6/dist-packages/pandas/io/formats/excel.py in write(self, writer, sheet_name, startrow, startcol, freeze_panes, engine)\r\n",
        "    721         if num_rows > self.max_rows or num_cols > self.max_cols:\r\n",
        "    722             raise ValueError(\r\n",
        "--> 723                 f\"This sheet is too large! Your sheet size is: {num_rows}, {num_cols} \"\r\n",
        "    724                 f\"Max sheet size is: {self.max_rows}, {self.max_cols}\"\r\n",
        "    725             )\r\n",
        "\r\n",
        "ValueError: This sheet is too large! Your sheet size is: 2321646, 11 Max sheet size is: 1048576, 16384\r\n",
        "'''"
      ],
      "execution_count": null,
      "outputs": []
    },
    {
      "cell_type": "code",
      "metadata": {
        "id": "W-GbEq1zlfyT"
      },
      "source": [
        "dataframe.to_csv(base_dir+(\"W sim 3 res %s.csv\")%simmed_dr_count,index=False)"
      ],
      "execution_count": 11,
      "outputs": []
    },
    {
      "cell_type": "code",
      "metadata": {
        "id": "_dpgDx6q2hYZ"
      },
      "source": [
        "pull_data=pd.DataFrame(dataframe['Pulls'])\r\n",
        "pull_hist=pull_data.groupby('Pulls')['Pulls'].agg('count').pipe(pd.DataFrame).rename(columns={'Pulls':'Frequency'})"
      ],
      "execution_count": 12,
      "outputs": []
    },
    {
      "cell_type": "code",
      "metadata": {
        "id": "5isRC_-T2mwV",
        "colab": {
          "base_uri": "https://localhost:8080/",
          "height": 419
        },
        "outputId": "f75ef3bd-7031-449c-ce8d-650395df818f"
      },
      "source": [
        "pull_hist['PDF']=pull_hist['Frequency']/sum(pull_hist['Frequency'])\r\n",
        "\r\n",
        "pull_hist['CDF']=pull_hist['PDF'].cumsum()\r\n",
        "pull_hist=pull_hist.reset_index()\r\n",
        "\r\n",
        "pull_hist"
      ],
      "execution_count": 13,
      "outputs": [
        {
          "output_type": "execute_result",
          "data": {
            "text/html": [
              "<div>\n",
              "<style scoped>\n",
              "    .dataframe tbody tr th:only-of-type {\n",
              "        vertical-align: middle;\n",
              "    }\n",
              "\n",
              "    .dataframe tbody tr th {\n",
              "        vertical-align: top;\n",
              "    }\n",
              "\n",
              "    .dataframe thead th {\n",
              "        text-align: right;\n",
              "    }\n",
              "</style>\n",
              "<table border=\"1\" class=\"dataframe\">\n",
              "  <thead>\n",
              "    <tr style=\"text-align: right;\">\n",
              "      <th></th>\n",
              "      <th>Pulls</th>\n",
              "      <th>Frequency</th>\n",
              "      <th>PDF</th>\n",
              "      <th>CDF</th>\n",
              "    </tr>\n",
              "  </thead>\n",
              "  <tbody>\n",
              "    <tr>\n",
              "      <th>0</th>\n",
              "      <td>1</td>\n",
              "      <td>16574</td>\n",
              "      <td>0.007139</td>\n",
              "      <td>0.007139</td>\n",
              "    </tr>\n",
              "    <tr>\n",
              "      <th>1</th>\n",
              "      <td>2</td>\n",
              "      <td>15991</td>\n",
              "      <td>0.006888</td>\n",
              "      <td>0.014027</td>\n",
              "    </tr>\n",
              "    <tr>\n",
              "      <th>2</th>\n",
              "      <td>3</td>\n",
              "      <td>15959</td>\n",
              "      <td>0.006874</td>\n",
              "      <td>0.020901</td>\n",
              "    </tr>\n",
              "    <tr>\n",
              "      <th>3</th>\n",
              "      <td>4</td>\n",
              "      <td>15690</td>\n",
              "      <td>0.006758</td>\n",
              "      <td>0.027659</td>\n",
              "    </tr>\n",
              "    <tr>\n",
              "      <th>4</th>\n",
              "      <td>5</td>\n",
              "      <td>15803</td>\n",
              "      <td>0.006807</td>\n",
              "      <td>0.034466</td>\n",
              "    </tr>\n",
              "    <tr>\n",
              "      <th>...</th>\n",
              "      <td>...</td>\n",
              "      <td>...</td>\n",
              "      <td>...</td>\n",
              "      <td>...</td>\n",
              "    </tr>\n",
              "    <tr>\n",
              "      <th>295</th>\n",
              "      <td>296</td>\n",
              "      <td>1037</td>\n",
              "      <td>0.000447</td>\n",
              "      <td>0.961433</td>\n",
              "    </tr>\n",
              "    <tr>\n",
              "      <th>296</th>\n",
              "      <td>297</td>\n",
              "      <td>1044</td>\n",
              "      <td>0.000450</td>\n",
              "      <td>0.961883</td>\n",
              "    </tr>\n",
              "    <tr>\n",
              "      <th>297</th>\n",
              "      <td>298</td>\n",
              "      <td>993</td>\n",
              "      <td>0.000428</td>\n",
              "      <td>0.962311</td>\n",
              "    </tr>\n",
              "    <tr>\n",
              "      <th>298</th>\n",
              "      <td>299</td>\n",
              "      <td>1013</td>\n",
              "      <td>0.000436</td>\n",
              "      <td>0.962747</td>\n",
              "    </tr>\n",
              "    <tr>\n",
              "      <th>299</th>\n",
              "      <td>300</td>\n",
              "      <td>86488</td>\n",
              "      <td>0.037253</td>\n",
              "      <td>1.000000</td>\n",
              "    </tr>\n",
              "  </tbody>\n",
              "</table>\n",
              "<p>300 rows × 4 columns</p>\n",
              "</div>"
            ],
            "text/plain": [
              "     Pulls  Frequency       PDF       CDF\n",
              "0        1      16574  0.007139  0.007139\n",
              "1        2      15991  0.006888  0.014027\n",
              "2        3      15959  0.006874  0.020901\n",
              "3        4      15690  0.006758  0.027659\n",
              "4        5      15803  0.006807  0.034466\n",
              "..     ...        ...       ...       ...\n",
              "295    296       1037  0.000447  0.961433\n",
              "296    297       1044  0.000450  0.961883\n",
              "297    298        993  0.000428  0.962311\n",
              "298    299       1013  0.000436  0.962747\n",
              "299    300      86488  0.037253  1.000000\n",
              "\n",
              "[300 rows x 4 columns]"
            ]
          },
          "metadata": {
            "tags": []
          },
          "execution_count": 13
        }
      ]
    },
    {
      "cell_type": "code",
      "metadata": {
        "id": "h7IC8ZCc2rYj",
        "colab": {
          "base_uri": "https://localhost:8080/",
          "height": 371
        },
        "outputId": "ba813a53-a027-4ed2-9136-04a10ad41f13"
      },
      "source": [
        "plot=pull_hist.plot.bar(x='Pulls', y=['Frequency'], grid=False, xticks=[],figsize=(10,6))\r\n",
        "fig=plot.get_figure()\r\n",
        "fig.savefig(base_dir+(\"W sim 3 freq bar %s.png\")%simmed_dr_count)"
      ],
      "execution_count": 14,
      "outputs": [
        {
          "output_type": "display_data",
          "data": {
            "image/png": "[encoded data removed]",
            "text/plain": [
              "<Figure size 720x432 with 1 Axes>"
            ]
          },
          "metadata": {
            "tags": [],
            "needs_background": "light"
          }
        }
      ]
    },
    {
      "cell_type": "code",
      "metadata": {
        "id": "d6Cls2i52uoW",
        "colab": {
          "base_uri": "https://localhost:8080/",
          "height": 388
        },
        "outputId": "c687d060-cacc-4e65-81ad-92789e3cb91f"
      },
      "source": [
        "plot=pull_hist.sort_values('Pulls').plot(x='Pulls',y='Frequency',grid=True, figsize=(10,6))\r\n",
        "fig=plot.get_figure()\r\n",
        "fig.savefig(base_dir+(\"W sim 3 freq %s.png\")%simmed_dr_count)"
      ],
      "execution_count": 15,
      "outputs": [
        {
          "output_type": "display_data",
          "data": {
            "image/png": "[encoded data removed]",
            "text/plain": [
              "<Figure size 720x432 with 1 Axes>"
            ]
          },
          "metadata": {
            "tags": [],
            "needs_background": "light"
          }
        }
      ]
    },
    {
      "cell_type": "code",
      "metadata": {
        "id": "vWgKwl_19x_A",
        "colab": {
          "base_uri": "https://localhost:8080/",
          "height": 388
        },
        "outputId": "9af92d23-d112-494a-f348-d5b333039dd9"
      },
      "source": [
        "plot=pull_hist.sort_values('Pulls').plot(x='Pulls',y='PDF',grid=True, figsize=(10,6))\r\n",
        "fig=plot.get_figure()\r\n",
        "fig.savefig(base_dir+(\"W sim 3 PDF %s.png\")%simmed_dr_count)"
      ],
      "execution_count": 16,
      "outputs": [
        {
          "output_type": "display_data",
          "data": {
            "image/png": "[encoded data removed]",
            "text/plain": [
              "<Figure size 720x432 with 1 Axes>"
            ]
          },
          "metadata": {
            "tags": [],
            "needs_background": "light"
          }
        }
      ]
    },
    {
      "cell_type": "code",
      "metadata": {
        "id": "VJrM7avQ2wrW",
        "colab": {
          "base_uri": "https://localhost:8080/",
          "height": 388
        },
        "outputId": "394caf32-7fbb-40cd-f5dd-502d40b1dbd8"
      },
      "source": [
        "plot=pull_hist.sort_values('Pulls').plot(x='Pulls',y='CDF',grid=True, figsize=(10,6))\r\n",
        "fig=plot.get_figure()\r\n",
        "fig.savefig(base_dir+(\"W sim 3 CDF %s.png\")%simmed_dr_count)"
      ],
      "execution_count": 17,
      "outputs": [
        {
          "output_type": "display_data",
          "data": {
            "image/png": "[encoded data removed]",
            "text/plain": [
              "<Figure size 720x432 with 1 Axes>"
            ]
          },
          "metadata": {
            "tags": [],
            "needs_background": "light"
          }
        }
      ]
    },
    {
      "cell_type": "code",
      "metadata": {
        "id": "pTUKvQ3z52ey",
        "colab": {
          "base_uri": "https://localhost:8080/"
        },
        "outputId": "53792255-fea3-436e-c4c9-bbcf9e25d4cb"
      },
      "source": [
        "dataframe.mean()"
      ],
      "execution_count": 18,
      "outputs": [
        {
          "output_type": "execute_result",
          "data": {
            "text/plain": [
              "DR no                1.160822e+06\n",
              "Pulls                9.645792e+01\n",
              "W                    9.631735e-01\n",
              "Weedy                9.623590e-01\n",
              "Non Pick-up S6 OP    8.253166e-01\n",
              "Elysium              3.900630e+00\n",
              "Non Pick-up S5 OP    3.900198e+00\n",
              "S6 OP                2.750849e+00\n",
              "S5 OP                7.800828e+00\n",
              "S4 OP                4.775394e+01\n",
              "S3 OP                3.815230e+01\n",
              "dtype: float64"
            ]
          },
          "metadata": {
            "tags": []
          },
          "execution_count": 18
        }
      ]
    },
    {
      "cell_type": "code",
      "metadata": {
        "id": "1kdLKDhu7AwP",
        "colab": {
          "base_uri": "https://localhost:8080/"
        },
        "outputId": "41d178e9-6c8c-4086-eeee-2ff315f8bdc2"
      },
      "source": [
        "pull_hist['Frequency'][299]"
      ],
      "execution_count": 19,
      "outputs": [
        {
          "output_type": "execute_result",
          "data": {
            "text/plain": [
              "86488"
            ]
          },
          "metadata": {
            "tags": []
          },
          "execution_count": 19
        }
      ]
    },
    {
      "cell_type": "code",
      "metadata": {
        "id": "gwaPOLpd8l37",
        "colab": {
          "base_uri": "https://localhost:8080/"
        },
        "outputId": "b53d6fbf-41b1-4dc2-fd48-7dd3a66f0b26"
      },
      "source": [
        "pull_hist['Frequency'][0:299].sum()"
      ],
      "execution_count": 20,
      "outputs": [
        {
          "output_type": "execute_result",
          "data": {
            "text/plain": [
              "2235158"
            ]
          },
          "metadata": {
            "tags": []
          },
          "execution_count": 20
        }
      ]
    },
    {
      "cell_type": "code",
      "metadata": {
        "id": "iysKZRBe9dUy",
        "colab": {
          "base_uri": "https://localhost:8080/",
          "height": 235
        },
        "outputId": "38683d54-48f9-410c-8a9f-8f298df65437"
      },
      "source": [
        "dataframe[2:8]"
      ],
      "execution_count": 21,
      "outputs": [
        {
          "output_type": "execute_result",
          "data": {
            "text/html": [
              "<div>\n",
              "<style scoped>\n",
              "    .dataframe tbody tr th:only-of-type {\n",
              "        vertical-align: middle;\n",
              "    }\n",
              "\n",
              "    .dataframe tbody tr th {\n",
              "        vertical-align: top;\n",
              "    }\n",
              "\n",
              "    .dataframe thead th {\n",
              "        text-align: right;\n",
              "    }\n",
              "</style>\n",
              "<table border=\"1\" class=\"dataframe\">\n",
              "  <thead>\n",
              "    <tr style=\"text-align: right;\">\n",
              "      <th></th>\n",
              "      <th>DR no</th>\n",
              "      <th>Pulls</th>\n",
              "      <th>W</th>\n",
              "      <th>Weedy</th>\n",
              "      <th>Non Pick-up S6 OP</th>\n",
              "      <th>Elysium</th>\n",
              "      <th>Non Pick-up S5 OP</th>\n",
              "      <th>S6 OP</th>\n",
              "      <th>S5 OP</th>\n",
              "      <th>S4 OP</th>\n",
              "      <th>S3 OP</th>\n",
              "    </tr>\n",
              "  </thead>\n",
              "  <tbody>\n",
              "    <tr>\n",
              "      <th>2</th>\n",
              "      <td>2</td>\n",
              "      <td>26</td>\n",
              "      <td>1</td>\n",
              "      <td>0</td>\n",
              "      <td>0</td>\n",
              "      <td>1</td>\n",
              "      <td>2</td>\n",
              "      <td>1</td>\n",
              "      <td>3</td>\n",
              "      <td>14</td>\n",
              "      <td>8</td>\n",
              "    </tr>\n",
              "    <tr>\n",
              "      <th>3</th>\n",
              "      <td>3</td>\n",
              "      <td>33</td>\n",
              "      <td>1</td>\n",
              "      <td>0</td>\n",
              "      <td>0</td>\n",
              "      <td>1</td>\n",
              "      <td>2</td>\n",
              "      <td>1</td>\n",
              "      <td>3</td>\n",
              "      <td>17</td>\n",
              "      <td>12</td>\n",
              "    </tr>\n",
              "    <tr>\n",
              "      <th>4</th>\n",
              "      <td>4</td>\n",
              "      <td>300</td>\n",
              "      <td>0</td>\n",
              "      <td>2</td>\n",
              "      <td>6</td>\n",
              "      <td>16</td>\n",
              "      <td>9</td>\n",
              "      <td>8</td>\n",
              "      <td>25</td>\n",
              "      <td>146</td>\n",
              "      <td>121</td>\n",
              "    </tr>\n",
              "    <tr>\n",
              "      <th>5</th>\n",
              "      <td>5</td>\n",
              "      <td>1</td>\n",
              "      <td>1</td>\n",
              "      <td>0</td>\n",
              "      <td>0</td>\n",
              "      <td>0</td>\n",
              "      <td>0</td>\n",
              "      <td>1</td>\n",
              "      <td>0</td>\n",
              "      <td>0</td>\n",
              "      <td>0</td>\n",
              "    </tr>\n",
              "    <tr>\n",
              "      <th>6</th>\n",
              "      <td>6</td>\n",
              "      <td>75</td>\n",
              "      <td>1</td>\n",
              "      <td>0</td>\n",
              "      <td>1</td>\n",
              "      <td>4</td>\n",
              "      <td>4</td>\n",
              "      <td>2</td>\n",
              "      <td>8</td>\n",
              "      <td>47</td>\n",
              "      <td>18</td>\n",
              "    </tr>\n",
              "    <tr>\n",
              "      <th>7</th>\n",
              "      <td>7</td>\n",
              "      <td>118</td>\n",
              "      <td>1</td>\n",
              "      <td>3</td>\n",
              "      <td>0</td>\n",
              "      <td>7</td>\n",
              "      <td>7</td>\n",
              "      <td>4</td>\n",
              "      <td>14</td>\n",
              "      <td>52</td>\n",
              "      <td>48</td>\n",
              "    </tr>\n",
              "  </tbody>\n",
              "</table>\n",
              "</div>"
            ],
            "text/plain": [
              "   DR no  Pulls  W  Weedy  ...  S6 OP  S5 OP  S4 OP  S3 OP\n",
              "2      2     26  1      0  ...      1      3     14      8\n",
              "3      3     33  1      0  ...      1      3     17     12\n",
              "4      4    300  0      2  ...      8     25    146    121\n",
              "5      5      1  1      0  ...      1      0      0      0\n",
              "6      6     75  1      0  ...      2      8     47     18\n",
              "7      7    118  1      3  ...      4     14     52     48\n",
              "\n",
              "[6 rows x 11 columns]"
            ]
          },
          "metadata": {
            "tags": []
          },
          "execution_count": 21
        }
      ]
    },
    {
      "cell_type": "code",
      "metadata": {
        "id": "UnOWoQvwVn8T"
      },
      "source": [
        ""
      ],
      "execution_count": 21,
      "outputs": []
    }
  ]
}